{
 "cells": [
  {
   "cell_type": "markdown",
   "metadata": {},
   "source": [
    "## MATHCO.THON\n",
    "\n",
    "OBJECTIVE : With the rise in the variety of cars with differentiated capabilities and features such as model, production year, category, brand, fuel type, engine volume, mileage, cylinders, colour, airbags and many more, we are bringing a car price prediction challenge for all. We all aspire to own a car within budget with the best features available\n"
   ]
  },
  {
   "cell_type": "code",
   "execution_count": 260,
   "metadata": {},
   "outputs": [],
   "source": [
    "# Import modules\n",
    "\n",
    "\n",
    "import pandas as pd\n",
    "import numpy as np\n",
    "import matplotlib.pyplot as plt\n",
    "import seaborn as sns\n",
    "\n",
    "from sklearn.preprocessing import KBinsDiscretizer\n",
    "from category_encoders import JamesSteinEncoder,TargetEncoder\n",
    "from sklearn.model_selection import KFold\n",
    "\n",
    "import lightgbm as lgb\n",
    "import xgboost as xgb\n",
    "from sklearn.ensemble import ExtraTreesRegressor\n",
    "\n",
    "\n",
    "\n",
    "from sklearn.metrics import mean_squared_log_error\n",
    "\n",
    "import joblib\n",
    "from warnings import filterwarnings\n",
    "filterwarnings('ignore')"
   ]
  },
  {
   "cell_type": "code",
   "execution_count": 225,
   "metadata": {},
   "outputs": [
    {
     "name": "stdout",
     "output_type": "stream",
     "text": [
      "shape of train data (19237, 18)\n",
      "shape of test data (8245, 18)\n"
     ]
    }
   ],
   "source": [
    "# load the data\n",
    "train = pd.read_csv(r\"../input/train.csv\")\n",
    "test = pd.read_csv(r\"../input/test.csv\")\n",
    "sub = pd.read_csv(\"../input/submission.csv\")\n",
    "\n",
    "print(f\"shape of train data {train.shape}\")\n",
    "print(f\"shape of test data {test.shape}\")"
   ]
  },
  {
   "cell_type": "code",
   "execution_count": 226,
   "metadata": {},
   "outputs": [
    {
     "name": "stdout",
     "output_type": "stream",
     "text": [
      "Found 313 duplicate ID's in Data\n",
      "\n",
      "Found 0 duplicate ID's in Data\n",
      "shape of final data (27169, 18)\n"
     ]
    }
   ],
   "source": [
    "## Check for duplicate in train file based on id\n",
    "print(f\"Found {train['ID'].duplicated().sum()} duplicate ID's in Data\")\n",
    "\n",
    "# remove Duplicate\n",
    "train = train.drop_duplicates(subset='ID', keep=\"first\")\n",
    "\n",
    "print(f\"\\nFound {train['ID'].duplicated().sum()} duplicate ID's in Data\")\n",
    "\n",
    "\n",
    "# Combine the data for further process\n",
    "train['isTrain'] = 1\n",
    "test['isTrain'] = 0\n",
    "data = train.append(test)\n",
    "data = data.drop(\"ID\",axis=1)\n",
    "\n",
    "print(f\"shape of final data {data.shape}\")"
   ]
  },
  {
   "cell_type": "code",
   "execution_count": 227,
   "metadata": {},
   "outputs": [],
   "source": [
    "def basic_data_cleaning(df):\n",
    "    \n",
    "    df['Levy'] = df['Levy'].replace(\"-\",np.nan)\n",
    "    data['Mileage'] = data['Mileage'].apply(lambda x:x.split(\" \")[0])\n",
    "    data['Mileage'] = data['Mileage'].astype(float)\n",
    "    \n",
    "    # Engine volume treatment\n",
    "    data['isTurbo'] = data['Engine volume'].apply(lambda x : 1 if \"Turbo\" in x else 0 )\n",
    "    data['Engine volume'] = data['Engine volume'].apply(lambda x : x.split(\" \")[0] if \"Turbo\" in x else x)\n",
    "    data['Engine volume'] = data['Engine volume'].astype(\"float\")\n",
    "    data['Engine volume'] = data['Engine volume']*1000\n",
    "    data[\"Engine volume\"].replace(0,np.nan,inplace=True)\n",
    "    \n",
    "    # Doors\n",
    "    data['Doors'] = data['Doors'].apply(lambda x : x.replace(\"04-May\",\"04-05\") if \"May\" in x else x)\n",
    "    data['Doors'] = data['Doors'].apply(lambda x : x.replace(\"02-Mar\",\"02-03\") if \"Mar\" in x else x)\n",
    "    \n",
    "    # Model\n",
    "    data['Manufacturer'] = data['Manufacturer'].apply(lambda x : x.lower())\n",
    "    data['Model'] = data['Model'].apply(lambda x : x.lower())\n",
    "    \n",
    "    # Data column name change\n",
    "    data.columns = [col.replace(\" \",\"_\") for col in data.columns]\n",
    "    \n",
    "    return data\n",
    "\n",
    "\n",
    "\n",
    "data = basic_data_cleaning(data)"
   ]
  },
  {
   "cell_type": "code",
   "execution_count": 228,
   "metadata": {},
   "outputs": [
    {
     "name": "stdout",
     "output_type": "stream",
     "text": [
      "********************************************************************************\n",
      "Data Null value Report\n",
      "\n"
     ]
    },
    {
     "data": {
      "text/html": [
       "<div>\n",
       "<style scoped>\n",
       "    .dataframe tbody tr th:only-of-type {\n",
       "        vertical-align: middle;\n",
       "    }\n",
       "\n",
       "    .dataframe tbody tr th {\n",
       "        vertical-align: top;\n",
       "    }\n",
       "\n",
       "    .dataframe thead th {\n",
       "        text-align: right;\n",
       "    }\n",
       "</style>\n",
       "<table border=\"1\" class=\"dataframe\">\n",
       "  <thead>\n",
       "    <tr style=\"text-align: right;\">\n",
       "      <th></th>\n",
       "      <th>Price</th>\n",
       "      <th>Levy</th>\n",
       "      <th>Manufacturer</th>\n",
       "      <th>Model</th>\n",
       "      <th>Prod._year</th>\n",
       "      <th>Category</th>\n",
       "      <th>Leather_interior</th>\n",
       "      <th>Fuel_type</th>\n",
       "      <th>Engine_volume</th>\n",
       "      <th>Mileage</th>\n",
       "      <th>Cylinders</th>\n",
       "      <th>Gear_box_type</th>\n",
       "      <th>Drive_wheels</th>\n",
       "      <th>Doors</th>\n",
       "      <th>Wheel</th>\n",
       "      <th>Color</th>\n",
       "      <th>Airbags</th>\n",
       "      <th>isTrain</th>\n",
       "      <th>isTurbo</th>\n",
       "    </tr>\n",
       "  </thead>\n",
       "  <tbody>\n",
       "    <tr>\n",
       "      <th>column type</th>\n",
       "      <td>float64</td>\n",
       "      <td>float64</td>\n",
       "      <td>object</td>\n",
       "      <td>object</td>\n",
       "      <td>int64</td>\n",
       "      <td>object</td>\n",
       "      <td>object</td>\n",
       "      <td>object</td>\n",
       "      <td>float64</td>\n",
       "      <td>float64</td>\n",
       "      <td>int64</td>\n",
       "      <td>object</td>\n",
       "      <td>object</td>\n",
       "      <td>object</td>\n",
       "      <td>object</td>\n",
       "      <td>object</td>\n",
       "      <td>int64</td>\n",
       "      <td>int64</td>\n",
       "      <td>int64</td>\n",
       "    </tr>\n",
       "    <tr>\n",
       "      <th>null values</th>\n",
       "      <td>8245</td>\n",
       "      <td>8163</td>\n",
       "      <td>0</td>\n",
       "      <td>0</td>\n",
       "      <td>0</td>\n",
       "      <td>0</td>\n",
       "      <td>0</td>\n",
       "      <td>0</td>\n",
       "      <td>15</td>\n",
       "      <td>0</td>\n",
       "      <td>0</td>\n",
       "      <td>0</td>\n",
       "      <td>0</td>\n",
       "      <td>0</td>\n",
       "      <td>0</td>\n",
       "      <td>0</td>\n",
       "      <td>0</td>\n",
       "      <td>0</td>\n",
       "      <td>0</td>\n",
       "    </tr>\n",
       "    <tr>\n",
       "      <th>null values (%)</th>\n",
       "      <td>30.3471</td>\n",
       "      <td>30.0453</td>\n",
       "      <td>0</td>\n",
       "      <td>0</td>\n",
       "      <td>0</td>\n",
       "      <td>0</td>\n",
       "      <td>0</td>\n",
       "      <td>0</td>\n",
       "      <td>0.05521</td>\n",
       "      <td>0</td>\n",
       "      <td>0</td>\n",
       "      <td>0</td>\n",
       "      <td>0</td>\n",
       "      <td>0</td>\n",
       "      <td>0</td>\n",
       "      <td>0</td>\n",
       "      <td>0</td>\n",
       "      <td>0</td>\n",
       "      <td>0</td>\n",
       "    </tr>\n",
       "  </tbody>\n",
       "</table>\n",
       "</div>"
      ],
      "text/plain": [
       "                   Price     Levy Manufacturer   Model Prod._year Category  \\\n",
       "column type      float64  float64       object  object      int64   object   \n",
       "null values         8245     8163            0       0          0        0   \n",
       "null values (%)  30.3471  30.0453            0       0          0        0   \n",
       "\n",
       "                Leather_interior Fuel_type Engine_volume  Mileage Cylinders  \\\n",
       "column type               object    object       float64  float64     int64   \n",
       "null values                    0         0            15        0         0   \n",
       "null values (%)                0         0       0.05521        0         0   \n",
       "\n",
       "                Gear_box_type Drive_wheels   Doors   Wheel   Color Airbags  \\\n",
       "column type            object       object  object  object  object   int64   \n",
       "null values                 0            0       0       0       0       0   \n",
       "null values (%)             0            0       0       0       0       0   \n",
       "\n",
       "                isTrain isTurbo  \n",
       "column type       int64   int64  \n",
       "null values           0       0  \n",
       "null values (%)       0       0  "
      ]
     },
     "metadata": {},
     "output_type": "display_data"
    },
    {
     "name": "stdout",
     "output_type": "stream",
     "text": [
      "********************************************************************************\n",
      "Data Null value Report after Null value Treatment \n",
      "\n"
     ]
    },
    {
     "data": {
      "text/html": [
       "<div>\n",
       "<style scoped>\n",
       "    .dataframe tbody tr th:only-of-type {\n",
       "        vertical-align: middle;\n",
       "    }\n",
       "\n",
       "    .dataframe tbody tr th {\n",
       "        vertical-align: top;\n",
       "    }\n",
       "\n",
       "    .dataframe thead th {\n",
       "        text-align: right;\n",
       "    }\n",
       "</style>\n",
       "<table border=\"1\" class=\"dataframe\">\n",
       "  <thead>\n",
       "    <tr style=\"text-align: right;\">\n",
       "      <th></th>\n",
       "      <th>Price</th>\n",
       "      <th>Levy</th>\n",
       "      <th>Manufacturer</th>\n",
       "      <th>Model</th>\n",
       "      <th>Prod._year</th>\n",
       "      <th>Category</th>\n",
       "      <th>Leather_interior</th>\n",
       "      <th>Fuel_type</th>\n",
       "      <th>Engine_volume</th>\n",
       "      <th>Mileage</th>\n",
       "      <th>Cylinders</th>\n",
       "      <th>Gear_box_type</th>\n",
       "      <th>Drive_wheels</th>\n",
       "      <th>Doors</th>\n",
       "      <th>Wheel</th>\n",
       "      <th>Color</th>\n",
       "      <th>Airbags</th>\n",
       "      <th>isTrain</th>\n",
       "      <th>isTurbo</th>\n",
       "    </tr>\n",
       "  </thead>\n",
       "  <tbody>\n",
       "    <tr>\n",
       "      <th>column type</th>\n",
       "      <td>float64</td>\n",
       "      <td>float64</td>\n",
       "      <td>object</td>\n",
       "      <td>object</td>\n",
       "      <td>int64</td>\n",
       "      <td>object</td>\n",
       "      <td>object</td>\n",
       "      <td>object</td>\n",
       "      <td>float64</td>\n",
       "      <td>float64</td>\n",
       "      <td>int64</td>\n",
       "      <td>object</td>\n",
       "      <td>object</td>\n",
       "      <td>object</td>\n",
       "      <td>object</td>\n",
       "      <td>object</td>\n",
       "      <td>int64</td>\n",
       "      <td>int64</td>\n",
       "      <td>int64</td>\n",
       "    </tr>\n",
       "    <tr>\n",
       "      <th>null values</th>\n",
       "      <td>8245</td>\n",
       "      <td>0</td>\n",
       "      <td>0</td>\n",
       "      <td>0</td>\n",
       "      <td>0</td>\n",
       "      <td>0</td>\n",
       "      <td>0</td>\n",
       "      <td>0</td>\n",
       "      <td>0</td>\n",
       "      <td>0</td>\n",
       "      <td>0</td>\n",
       "      <td>0</td>\n",
       "      <td>0</td>\n",
       "      <td>0</td>\n",
       "      <td>0</td>\n",
       "      <td>0</td>\n",
       "      <td>0</td>\n",
       "      <td>0</td>\n",
       "      <td>0</td>\n",
       "    </tr>\n",
       "    <tr>\n",
       "      <th>null values (%)</th>\n",
       "      <td>30.3471</td>\n",
       "      <td>0</td>\n",
       "      <td>0</td>\n",
       "      <td>0</td>\n",
       "      <td>0</td>\n",
       "      <td>0</td>\n",
       "      <td>0</td>\n",
       "      <td>0</td>\n",
       "      <td>0</td>\n",
       "      <td>0</td>\n",
       "      <td>0</td>\n",
       "      <td>0</td>\n",
       "      <td>0</td>\n",
       "      <td>0</td>\n",
       "      <td>0</td>\n",
       "      <td>0</td>\n",
       "      <td>0</td>\n",
       "      <td>0</td>\n",
       "      <td>0</td>\n",
       "    </tr>\n",
       "  </tbody>\n",
       "</table>\n",
       "</div>"
      ],
      "text/plain": [
       "                   Price     Levy Manufacturer   Model Prod._year Category  \\\n",
       "column type      float64  float64       object  object      int64   object   \n",
       "null values         8245        0            0       0          0        0   \n",
       "null values (%)  30.3471        0            0       0          0        0   \n",
       "\n",
       "                Leather_interior Fuel_type Engine_volume  Mileage Cylinders  \\\n",
       "column type               object    object       float64  float64     int64   \n",
       "null values                    0         0             0        0         0   \n",
       "null values (%)                0         0             0        0         0   \n",
       "\n",
       "                Gear_box_type Drive_wheels   Doors   Wheel   Color Airbags  \\\n",
       "column type            object       object  object  object  object   int64   \n",
       "null values                 0            0       0       0       0       0   \n",
       "null values (%)             0            0       0       0       0       0   \n",
       "\n",
       "                isTrain isTurbo  \n",
       "column type       int64   int64  \n",
       "null values           0       0  \n",
       "null values (%)       0       0  "
      ]
     },
     "metadata": {},
     "output_type": "display_data"
    }
   ],
   "source": [
    "## Null value Summary\n",
    "\n",
    "# gives some infos on columns types and numer of null values\n",
    "data_info=pd.DataFrame(data.dtypes).T.rename(index={0:'column type'})\n",
    "data_info=data_info.append(pd.DataFrame(data.isnull().sum()).T.rename(index={0:'null values'}))\n",
    "data_info=data_info.append(pd.DataFrame(data.isnull().sum()/data.shape[0]*100).T.\n",
    "                         rename(index={0:'null values (%)'}))\n",
    "print(\"*\"*80)\n",
    "print(\"Data Null value Report\\n\")\n",
    "display(data_info)\n",
    "\n",
    "\n",
    "## Filling null values\n",
    "fill_feats = ['Levy','Engine_volume']\n",
    "\n",
    "'''\n",
    "Hypothesis for Null values\n",
    "Levy Values and Engine volume highly depends on Model and Manufacturer\n",
    "\n",
    "'''\n",
    "\n",
    "for feat in fill_feats:\n",
    "    data[feat] = data[feat].fillna(data.groupby(['Manufacturer','Model'])[feat].transform('median'))\n",
    "    data[feat] = data[feat].fillna(data.groupby(['Manufacturer'])[feat].transform('median'))\n",
    "    data[feat] = data[feat].fillna(data[feat].median())            \n",
    "\n",
    "\n",
    "\n",
    "    \n",
    "data_info=pd.DataFrame(data.dtypes).T.rename(index={0:'column type'})\n",
    "data_info=data_info.append(pd.DataFrame(data.isnull().sum()).T.rename(index={0:'null values'}))\n",
    "data_info=data_info.append(pd.DataFrame(data.isnull().sum()/data.shape[0]*100).T.\n",
    "                         rename(index={0:'null values (%)'}))\n",
    "print(\"*\"*80)\n",
    "print(\"Data Null value Report after Null value Treatment \\n\")\n",
    "display(data_info)"
   ]
  },
  {
   "cell_type": "markdown",
   "metadata": {},
   "source": [
    "#### Data Exploration"
   ]
  },
  {
   "cell_type": "code",
   "execution_count": 189,
   "metadata": {},
   "outputs": [
    {
     "data": {
      "text/plain": [
       "<Figure size 1440x576 with 0 Axes>"
      ]
     },
     "metadata": {},
     "output_type": "display_data"
    },
    {
     "data": {
      "image/png": "[encoded data removed]",
      "text/plain": [
       "<Figure size 1728x576 with 1 Axes>"
      ]
     },
     "metadata": {
      "needs_background": "light"
     },
     "output_type": "display_data"
    }
   ],
   "source": [
    "plt.figure(figsize=(20,8))\n",
    "mx = sns.factorplot(x=\"Prod. year\", y=\"Price\", data=train, size=8 ,aspect=3)\n",
    "mx.set(xlabel= 'year')\n",
    "mx.set(ylabel= 'Price')\n",
    "plt.title('Year Vs Price');\n",
    "plt.show();"
   ]
  },
  {
   "cell_type": "markdown",
   "metadata": {},
   "source": [
    "* We can observe that there is one outlier in year 1999"
   ]
  },
  {
   "cell_type": "code",
   "execution_count": 57,
   "metadata": {},
   "outputs": [
    {
     "data": {
      "image/png": "[encoded data removed]",
      "text/plain": [
       "<Figure size 1080x504 with 1 Axes>"
      ]
     },
     "metadata": {
      "needs_background": "light"
     },
     "output_type": "display_data"
    }
   ],
   "source": [
    "plt.figure(figsize=(15,7))\n",
    "mx = sns.boxenplot(x=\"Fuel type\", y=\"Price\", data=train)\n",
    "mx.set(xlabel= 'Fuel Type')\n",
    "mx.set(ylabel= 'Price')\n",
    "plt.title('Fuel Type Vs Price');\n",
    "plt.show();"
   ]
  },
  {
   "cell_type": "markdown",
   "metadata": {},
   "source": [
    "We have One  outlier data point in Diesel category"
   ]
  },
  {
   "cell_type": "code",
   "execution_count": 58,
   "metadata": {},
   "outputs": [
    {
     "data": {
      "image/png": "[encoded data removed]",
      "text/plain": [
       "<Figure size 1080x504 with 1 Axes>"
      ]
     },
     "metadata": {
      "needs_background": "light"
     },
     "output_type": "display_data"
    }
   ],
   "source": [
    "plt.figure(figsize=(15,7))\n",
    "mx = sns.boxenplot(x=\"Gear box type\", y=\"Price\", data=train)\n",
    "mx.set(xlabel= 'Gear box type')\n",
    "mx.set(ylabel= 'Price')\n",
    "plt.title('Gear box type Vs Price');\n",
    "plt.show();"
   ]
  },
  {
   "cell_type": "code",
   "execution_count": 59,
   "metadata": {},
   "outputs": [
    {
     "data": {
      "image/png": "[encoded data removed]",
      "text/plain": [
       "<Figure size 1080x504 with 1 Axes>"
      ]
     },
     "metadata": {
      "needs_background": "light"
     },
     "output_type": "display_data"
    }
   ],
   "source": [
    "plt.figure(figsize=(15,7))\n",
    "mx = sns.boxenplot(x=\"Category\", y=\"Price\", data=train)\n",
    "mx.set(xlabel= 'Category')\n",
    "mx.set(ylabel= 'Price')\n",
    "plt.title('Category Vs Price');\n",
    "plt.show();"
   ]
  },
  {
   "cell_type": "code",
   "execution_count": 60,
   "metadata": {},
   "outputs": [
    {
     "data": {
      "image/png": "[encoded data removed]",
      "text/plain": [
       "<Figure size 1080x504 with 1 Axes>"
      ]
     },
     "metadata": {
      "needs_background": "light"
     },
     "output_type": "display_data"
    }
   ],
   "source": [
    "plt.figure(figsize=(15,7))\n",
    "mx = sns.boxenplot(x=\"Color\", y=\"Price\", data=train)\n",
    "mx.set(xlabel= 'Color')\n",
    "mx.set(ylabel= 'Price')\n",
    "plt.title('Color Vs Price');\n",
    "plt.show();"
   ]
  },
  {
   "cell_type": "markdown",
   "metadata": {},
   "source": [
    "*SO far we observed the one outlier point in all visualization, so let's check*"
   ]
  },
  {
   "cell_type": "code",
   "execution_count": 78,
   "metadata": {},
   "outputs": [
    {
     "data": {
      "text/html": [
       "<div>\n",
       "<style scoped>\n",
       "    .dataframe tbody tr th:only-of-type {\n",
       "        vertical-align: middle;\n",
       "    }\n",
       "\n",
       "    .dataframe tbody tr th {\n",
       "        vertical-align: top;\n",
       "    }\n",
       "\n",
       "    .dataframe thead th {\n",
       "        text-align: right;\n",
       "    }\n",
       "</style>\n",
       "<table border=\"1\" class=\"dataframe\">\n",
       "  <thead>\n",
       "    <tr style=\"text-align: right;\">\n",
       "      <th></th>\n",
       "      <th>Price</th>\n",
       "      <th>Levy</th>\n",
       "      <th>Manufacturer</th>\n",
       "      <th>Model</th>\n",
       "      <th>Prod._year</th>\n",
       "      <th>Category</th>\n",
       "      <th>Leather_interior</th>\n",
       "      <th>Fuel_type</th>\n",
       "      <th>Engine_volume</th>\n",
       "      <th>Mileage</th>\n",
       "      <th>Cylinders</th>\n",
       "      <th>Gear_box_type</th>\n",
       "      <th>Drive_wheels</th>\n",
       "      <th>Doors</th>\n",
       "      <th>Wheel</th>\n",
       "      <th>Color</th>\n",
       "      <th>Airbags</th>\n",
       "      <th>isTrain</th>\n",
       "      <th>isTurbo</th>\n",
       "    </tr>\n",
       "  </thead>\n",
       "  <tbody>\n",
       "    <tr>\n",
       "      <th>2503</th>\n",
       "      <td>5000.0</td>\n",
       "      <td>1053.0</td>\n",
       "      <td>opel</td>\n",
       "      <td>astra</td>\n",
       "      <td>1999</td>\n",
       "      <td>Goods wagon</td>\n",
       "      <td>No</td>\n",
       "      <td>Diesel</td>\n",
       "      <td>2000.0</td>\n",
       "      <td>0</td>\n",
       "      <td>4</td>\n",
       "      <td>Manual</td>\n",
       "      <td>Front</td>\n",
       "      <td>04-05</td>\n",
       "      <td>Left wheel</td>\n",
       "      <td>Blue</td>\n",
       "      <td>4</td>\n",
       "      <td>1</td>\n",
       "      <td>1</td>\n",
       "    </tr>\n",
       "    <tr>\n",
       "      <th>9042</th>\n",
       "      <td>10976.0</td>\n",
       "      <td>1408.0</td>\n",
       "      <td>ford</td>\n",
       "      <td>transit</td>\n",
       "      <td>1999</td>\n",
       "      <td>Goods wagon</td>\n",
       "      <td>No</td>\n",
       "      <td>Diesel</td>\n",
       "      <td>2500.0</td>\n",
       "      <td>137000</td>\n",
       "      <td>4</td>\n",
       "      <td>Manual</td>\n",
       "      <td>Rear</td>\n",
       "      <td>04-05</td>\n",
       "      <td>Left wheel</td>\n",
       "      <td>Blue</td>\n",
       "      <td>2</td>\n",
       "      <td>1</td>\n",
       "      <td>0</td>\n",
       "    </tr>\n",
       "    <tr>\n",
       "      <th>16983</th>\n",
       "      <td>26307500.0</td>\n",
       "      <td>1437.0</td>\n",
       "      <td>opel</td>\n",
       "      <td>combo</td>\n",
       "      <td>1999</td>\n",
       "      <td>Goods wagon</td>\n",
       "      <td>No</td>\n",
       "      <td>Diesel</td>\n",
       "      <td>1700.0</td>\n",
       "      <td>99999</td>\n",
       "      <td>4</td>\n",
       "      <td>Manual</td>\n",
       "      <td>Front</td>\n",
       "      <td>02-03</td>\n",
       "      <td>Left wheel</td>\n",
       "      <td>Blue</td>\n",
       "      <td>0</td>\n",
       "      <td>1</td>\n",
       "      <td>0</td>\n",
       "    </tr>\n",
       "    <tr>\n",
       "      <th>4250</th>\n",
       "      <td>NaN</td>\n",
       "      <td>1053.0</td>\n",
       "      <td>opel</td>\n",
       "      <td>astra</td>\n",
       "      <td>1999</td>\n",
       "      <td>Goods wagon</td>\n",
       "      <td>No</td>\n",
       "      <td>Diesel</td>\n",
       "      <td>1700.0</td>\n",
       "      <td>200000</td>\n",
       "      <td>4</td>\n",
       "      <td>Manual</td>\n",
       "      <td>Front</td>\n",
       "      <td>04-05</td>\n",
       "      <td>Left wheel</td>\n",
       "      <td>Blue</td>\n",
       "      <td>6</td>\n",
       "      <td>0</td>\n",
       "      <td>1</td>\n",
       "    </tr>\n",
       "  </tbody>\n",
       "</table>\n",
       "</div>"
      ],
      "text/plain": [
       "            Price    Levy Manufacturer    Model  Prod._year     Category  \\\n",
       "2503       5000.0  1053.0         opel    astra        1999  Goods wagon   \n",
       "9042      10976.0  1408.0         ford  transit        1999  Goods wagon   \n",
       "16983  26307500.0  1437.0         opel    combo        1999  Goods wagon   \n",
       "4250          NaN  1053.0         opel    astra        1999  Goods wagon   \n",
       "\n",
       "      Leather_interior Fuel_type  Engine_volume Mileage  Cylinders  \\\n",
       "2503                No    Diesel         2000.0       0          4   \n",
       "9042                No    Diesel         2500.0  137000          4   \n",
       "16983               No    Diesel         1700.0   99999          4   \n",
       "4250                No    Diesel         1700.0  200000          4   \n",
       "\n",
       "      Gear_box_type Drive_wheels  Doors       Wheel Color  Airbags  isTrain  \\\n",
       "2503         Manual        Front  04-05  Left wheel  Blue        4        1   \n",
       "9042         Manual         Rear  04-05  Left wheel  Blue        2        1   \n",
       "16983        Manual        Front  02-03  Left wheel  Blue        0        1   \n",
       "4250         Manual        Front  04-05  Left wheel  Blue        6        0   \n",
       "\n",
       "       isTurbo  \n",
       "2503         1  \n",
       "9042         0  \n",
       "16983        0  \n",
       "4250         1  "
      ]
     },
     "execution_count": 78,
     "metadata": {},
     "output_type": "execute_result"
    }
   ],
   "source": [
    "data[(data['Color']=='Blue') & (data['Gear_box_type']=='Manual') & (data['Category']=='Goods wagon') & (data['Fuel_type'] == 'Diesel')\n",
    "    & (data['Prod._year'] ==1999)]"
   ]
  },
  {
   "cell_type": "code",
   "execution_count": 101,
   "metadata": {
    "scrolled": true
   },
   "outputs": [
    {
     "data": {
      "text/plain": [
       "<AxesSubplot:xlabel='Mileage'>"
      ]
     },
     "execution_count": 101,
     "metadata": {},
     "output_type": "execute_result"
    },
    {
     "data": {
      "image/png": "[encoded data removed]",
      "text/plain": [
       "<Figure size 720x360 with 1 Axes>"
      ]
     },
     "metadata": {
      "needs_background": "light"
     },
     "output_type": "display_data"
    }
   ],
   "source": [
    "plt.figure(figsize=(10,5))\n",
    "sns.boxenplot(x=data[\"Mileage\"])"
   ]
  },
  {
   "cell_type": "markdown",
   "metadata": {},
   "source": [
    "#### Mileage has skewed Distribution"
   ]
  },
  {
   "cell_type": "code",
   "execution_count": 229,
   "metadata": {},
   "outputs": [],
   "source": [
    "# # Replacing this outlier with median value\n",
    "median = train.loc[train['Price']!=26307500.0, 'Price'].median()\n",
    "data['Price'] = np.where(data['Price']==26307500.0,median,data['Price'])\n",
    "\n",
    "# Mileage\n",
    "median = data.loc[data['Mileage']!=999999999, 'Mileage'].median()\n",
    "data['Mileage'] = np.where(data['Mileage']==999999999,median,data['Mileage'])\n",
    "\n",
    "# Prod Year (1939 Prod year not in test data set)\n",
    "data = data[data['Prod._year'] != '1939']"
   ]
  },
  {
   "cell_type": "markdown",
   "metadata": {},
   "source": [
    "### Feature Engineering"
   ]
  },
  {
   "cell_type": "code",
   "execution_count": 230,
   "metadata": {},
   "outputs": [],
   "source": [
    "#### Fuel Type Treatment\n",
    "fuel_map = {\"Plug-in Hybrid\":\"Hybrid\",\"LPG\":\"Gas\",\"CNG\":\"Gas\",\"Hydrogen\":\"Gas\",\n",
    "            \"Petrol\":\"Petrol\",\"Diesel\":\"Diesel\",\"Hybrid\":\"Hybrid\"}\n",
    "\n",
    "data['Fuel_type'] = data['Fuel_type'].map(fuel_map)"
   ]
  },
  {
   "cell_type": "code",
   "execution_count": 231,
   "metadata": {
    "scrolled": true
   },
   "outputs": [],
   "source": [
    "# car age\n",
    "data['age'] = 2021 - data['Prod._year']"
   ]
  },
  {
   "cell_type": "code",
   "execution_count": 232,
   "metadata": {},
   "outputs": [],
   "source": [
    "# Engine Power (Depends on Engine volume and Number of cylinder)\n",
    "data['Power']  = round(data['Engine_volume']/data['Cylinders'],1)\n",
    "\n",
    "#kmil driven per year\n",
    "data['Kmperyear'] = round(data['Mileage']/data['age'],0)\n",
    "\n",
    "# Engine power per year\n",
    "data['powPeryear'] = round(data['Power']/data['age'],0)\n",
    "\n",
    "# total tax paid per year\n",
    "data['LevyPeryear'] = round(data['Levy']/data['age'],0)\n"
   ]
  },
  {
   "cell_type": "code",
   "execution_count": 233,
   "metadata": {},
   "outputs": [],
   "source": [
    "'''\n",
    "Following features are left skewed, used log transformation, Also try Box-cox but log transformation\n",
    "give me better results\n",
    "'''\n",
    "\n",
    "data['Mileage'] = round(np.log1p(data['Mileage']),3)\n",
    "data['Levy'] = round(np.log1p(data['Levy']),3)\n",
    "data['age'] = round(np.log1p(data['age']),3)\n",
    "data['Power'] = round(np.log1p(data['Power']),3)\n",
    "data['Engine_volume'] = round(np.log1p(data['Engine_volume']),3)\n",
    "data['Kmperyear'] = round(np.log1p(data['Kmperyear']),3)                       \n",
    "data['powPeryear'] = round(np.log1p(data['powPeryear']),3)\n",
    "data['LevyPeryear']  = round(np.log1p(data['LevyPeryear']),3)"
   ]
  },
  {
   "cell_type": "code",
   "execution_count": 234,
   "metadata": {},
   "outputs": [],
   "source": [
    "### Statstical Features based on Model and Manufactrer\n",
    "\n",
    "data['Avg_model_milege'] = data.groupby(['Model'])['Mileage'].transform('median')\n",
    "data['Avg_manu_milege'] = data.groupby(['Manufacturer'])['Mileage'].transform('median')\n",
    "\n",
    "data['Avg_LV_manu'] = data.groupby(['Manufacturer'])['Levy'].transform('median')\n",
    "data['Avg_LV_model'] = data.groupby(['Model'])['Levy'].transform('median')\n",
    "\n",
    "\n",
    "data['Avg_power_model'] = data.groupby(['Manufacturer'])['Power'].transform('median')\n",
    "data['Avg_power_manu'] = data.groupby(['Model'])['Power'].transform('median')\n",
    "\n",
    "data['Category_count_manu'] = data.groupby(['Manufacturer'])['Category'].transform('nunique')\n",
    "data['Category_count_model'] = data.groupby(['Model'])['Category'].transform('nunique')"
   ]
  },
  {
   "cell_type": "code",
   "execution_count": 235,
   "metadata": {},
   "outputs": [],
   "source": [
    "### Few Feature based on binning count\n",
    "\n",
    "'''\n",
    "This way data of feature are more uniformly distribtuted\n",
    "'''\n",
    "\n",
    "cont_features = ['Levy','Mileage','age','Power','Kmperyear','powPeryear']\n",
    "\n",
    "for cont_feat in cont_features:\n",
    "    discretizer = KBinsDiscretizer(n_bins=8, encode='ordinal', strategy='quantile')\n",
    "    feature_name = cont_feat+\"_\"+\"bins\"\n",
    "    data[feature_name] = discretizer.fit_transform(data[cont_feat].values.reshape(-1,1)).astype(int)\n"
   ]
  },
  {
   "cell_type": "code",
   "execution_count": 236,
   "metadata": {},
   "outputs": [],
   "source": [
    "# Cylinder Treatment\n",
    "bins = [0,4,8,300]\n",
    "labels = [\"<=4\",\"<=8\",\">=12\"]\n",
    "\n",
    "data['Cylinders'] = pd.cut(data[\"Cylinders\"],bins=bins,labels=labels,right=True)"
   ]
  },
  {
   "cell_type": "markdown",
   "metadata": {},
   "source": [
    "#### Encoding Techniques for Categorical Variables\n",
    "\n",
    "1. For Model and Manufacturer, I have decide to Use Target Encoding & JamesSteinEncoding\n",
    "2. Rest of All categorical variable i used Mean Encoding"
   ]
  },
  {
   "cell_type": "code",
   "execution_count": 237,
   "metadata": {},
   "outputs": [],
   "source": [
    "# Mean Encoding\n",
    "\n",
    "temp = data[data['isTrain']==1]\n",
    "temp[\"Price\"] = np.log1p(temp['Price'])\n",
    "\n",
    "\n",
    "cat_feat = ['Category','Leather_interior','Fuel_type','Cylinders','Gear_box_type',\n",
    "           'Drive_wheels','Doors','Wheel','Color','Airbags']\n",
    "\n",
    "for feat in cat_feat:\n",
    "    feat_mean = temp.groupby(feat)[\"Price\"].mean()\n",
    "    data[feat] = round(data[feat].replace(feat_mean.index,feat_mean.values),2)"
   ]
  },
  {
   "cell_type": "code",
   "execution_count": 238,
   "metadata": {},
   "outputs": [],
   "source": [
    "# Spliting test and train data\n",
    "final_data = data.copy()\n",
    "train_df = final_data[final_data['isTrain']==1]\n",
    "test_df = final_data[final_data['isTrain']==0]\n",
    "train_df = train_df.drop('isTrain',axis=1)\n",
    "test_df = test_df.drop('isTrain',axis=1)\n",
    "train_df['Price'] = np.log1p(train_df['Price'])\n",
    "test_df.drop(['Price'],axis=1,inplace=True)"
   ]
  },
  {
   "cell_type": "code",
   "execution_count": 239,
   "metadata": {},
   "outputs": [
    {
     "data": {
      "text/plain": [
       "['trans_test_file.bin']"
      ]
     },
     "execution_count": 239,
     "metadata": {},
     "output_type": "execute_result"
    }
   ],
   "source": [
    "### Target Encoding\n",
    "\n",
    "X = train_df.drop(labels=['Price'], axis=1)\n",
    "y = train_df['Price']\n",
    "cat_features = ['Model','Manufacturer']\n",
    "\n",
    "# use target encoding to encode two categorical features\n",
    "enc = JamesSteinEncoder(cols=cat_features)\n",
    "\n",
    "# transform the datasets\n",
    "train_df = round(enc.fit_transform(X,y.values),2)\n",
    "test_df = round(enc.transform(test_df),2)\n",
    "\n",
    "\n",
    "## Saving Pickle file for future use\n",
    "\n",
    "joblib.dump(train_df,\"trans_train_file.bin\")\n",
    "joblib.dump(test_df,\"trans_test_file.bin\")"
   ]
  },
  {
   "cell_type": "markdown",
   "metadata": {},
   "source": [
    "### Modelling"
   ]
  },
  {
   "cell_type": "markdown",
   "metadata": {},
   "source": [
    "#### Light GB"
   ]
  },
  {
   "cell_type": "code",
   "execution_count": 257,
   "metadata": {},
   "outputs": [
    {
     "name": "stdout",
     "output_type": "stream",
     "text": [
      "[LightGBM] [Warning] bagging_fraction is set=0.78, subsample=1.0 will be ignored. Current value: bagging_fraction=0.78\n",
      "****************************************************************************************************\n",
      "RMSLE score for fold 1 is 0.9807907143637814\n",
      "[LightGBM] [Warning] bagging_fraction is set=0.78, subsample=1.0 will be ignored. Current value: bagging_fraction=0.78\n",
      "****************************************************************************************************\n",
      "RMSLE score for fold 2 is 0.940260984175679\n",
      "[LightGBM] [Warning] bagging_fraction is set=0.78, subsample=1.0 will be ignored. Current value: bagging_fraction=0.78\n",
      "****************************************************************************************************\n",
      "RMSLE score for fold 3 is 0.8896487126182111\n",
      "[LightGBM] [Warning] bagging_fraction is set=0.78, subsample=1.0 will be ignored. Current value: bagging_fraction=0.78\n",
      "****************************************************************************************************\n",
      "RMSLE score for fold 4 is 0.9796004157026604\n",
      "[LightGBM] [Warning] bagging_fraction is set=0.78, subsample=1.0 will be ignored. Current value: bagging_fraction=0.78\n",
      "****************************************************************************************************\n",
      "RMSLE score for fold 5 is 1.1206406355443832\n",
      "[LightGBM] [Warning] bagging_fraction is set=0.78, subsample=1.0 will be ignored. Current value: bagging_fraction=0.78\n",
      "****************************************************************************************************\n",
      "RMSLE score for fold 6 is 0.8876704806710772\n",
      "[LightGBM] [Warning] bagging_fraction is set=0.78, subsample=1.0 will be ignored. Current value: bagging_fraction=0.78\n",
      "****************************************************************************************************\n",
      "RMSLE score for fold 7 is 0.9344302620728951\n",
      "[LightGBM] [Warning] bagging_fraction is set=0.78, subsample=1.0 will be ignored. Current value: bagging_fraction=0.78\n",
      "****************************************************************************************************\n",
      "RMSLE score for fold 8 is 0.9203289502129213\n",
      "[LightGBM] [Warning] bagging_fraction is set=0.78, subsample=1.0 will be ignored. Current value: bagging_fraction=0.78\n",
      "****************************************************************************************************\n",
      "RMSLE score for fold 9 is 0.9707640021080641\n",
      "[LightGBM] [Warning] bagging_fraction is set=0.78, subsample=1.0 will be ignored. Current value: bagging_fraction=0.78\n",
      "****************************************************************************************************\n",
      "RMSLE score for fold 10 is 0.8475327951102631\n",
      "[LightGBM] [Warning] bagging_fraction is set=0.78, subsample=1.0 will be ignored. Current value: bagging_fraction=0.78\n",
      "****************************************************************************************************\n",
      "RMSLE score for fold 11 is 1.0299302135488553\n",
      "[LightGBM] [Warning] bagging_fraction is set=0.78, subsample=1.0 will be ignored. Current value: bagging_fraction=0.78\n",
      "****************************************************************************************************\n",
      "RMSLE score for fold 12 is 0.8897594222590691\n",
      "[LightGBM] [Warning] bagging_fraction is set=0.78, subsample=1.0 will be ignored. Current value: bagging_fraction=0.78\n",
      "****************************************************************************************************\n",
      "RMSLE score for fold 13 is 0.9376798866962022\n",
      "[LightGBM] [Warning] bagging_fraction is set=0.78, subsample=1.0 will be ignored. Current value: bagging_fraction=0.78\n",
      "****************************************************************************************************\n",
      "RMSLE score for fold 14 is 0.8906642200486358\n",
      "[LightGBM] [Warning] bagging_fraction is set=0.78, subsample=1.0 will be ignored. Current value: bagging_fraction=0.78\n",
      "****************************************************************************************************\n",
      "RMSLE score for fold 15 is 0.9296081007012292\n",
      "[LightGBM] [Warning] bagging_fraction is set=0.78, subsample=1.0 will be ignored. Current value: bagging_fraction=0.78\n",
      "****************************************************************************************************\n",
      "RMSLE score for fold 16 is 0.9450192046180531\n",
      "[LightGBM] [Warning] bagging_fraction is set=0.78, subsample=1.0 will be ignored. Current value: bagging_fraction=0.78\n",
      "****************************************************************************************************\n",
      "RMSLE score for fold 17 is 0.9232968146086724\n",
      "[LightGBM] [Warning] bagging_fraction is set=0.78, subsample=1.0 will be ignored. Current value: bagging_fraction=0.78\n",
      "****************************************************************************************************\n",
      "RMSLE score for fold 18 is 0.7909591678724999\n",
      "[LightGBM] [Warning] bagging_fraction is set=0.78, subsample=1.0 will be ignored. Current value: bagging_fraction=0.78\n",
      "****************************************************************************************************\n",
      "RMSLE score for fold 19 is 0.9950337131528377\n",
      "[LightGBM] [Warning] bagging_fraction is set=0.78, subsample=1.0 will be ignored. Current value: bagging_fraction=0.78\n",
      "****************************************************************************************************\n",
      "RMSLE score for fold 20 is 0.8692707700049004\n",
      "******************************************************************************************************************************************************\n",
      "Mean RMSLE score is 0.9336444733045447\n"
     ]
    },
    {
     "data": {
      "image/png": "[encoded data removed]",
      "text/plain": [
       "<Figure size 432x288 with 1 Axes>"
      ]
     },
     "metadata": {
      "needs_background": "light"
     },
     "output_type": "display_data"
    }
   ],
   "source": [
    "# 20 fold cross validation for Light GB\n",
    "\n",
    "kf = KFold(n_splits=20, shuffle=True)\n",
    "\n",
    "scores = {}\n",
    "for fold, (train_idx, val_idx) in enumerate(kf.split(train_df, y), 1):\n",
    "    \n",
    "    X_train = train_df.iloc[train_idx]\n",
    "    y_train = y.iloc[train_idx]\n",
    "    X_val = train_df.iloc[val_idx]\n",
    "    y_val = y.iloc[val_idx]\n",
    "    \n",
    "    model = lgb.LGBMRegressor(n_estimators=1000, max_depth=15, learning_rate=0.05, num_leaves=44,\n",
    "                               max_bin = 30, bagging_fraction = 0.78)\n",
    "    \n",
    "    model.fit(X_train, y_train)\n",
    "    \n",
    "    pred = model.predict(X_val)\n",
    " \n",
    "    score = np.sqrt(mean_squared_log_error(np.expm1(y_val), np.expm1((pred))))\n",
    "    \n",
    "    print(\"*\"*100)\n",
    "    print(f'RMSLE score for fold {fold} is {score}')\n",
    "    scores.update({fold:score})\n",
    "    \n",
    "print(\"*\"*150)\n",
    "print(f'Mean RMSLE score is {np.mean(list(scores.values()))}')\n",
    "\n",
    "plt.plot(scores.keys(),scores.values())\n",
    "plt.title(\"Kfold RMSLE\")\n",
    "plt.show()"
   ]
  },
  {
   "cell_type": "markdown",
   "metadata": {},
   "source": [
    "#### XGBOOST"
   ]
  },
  {
   "cell_type": "code",
   "execution_count": 259,
   "metadata": {},
   "outputs": [
    {
     "name": "stdout",
     "output_type": "stream",
     "text": [
      "****************************************************************************************************\n",
      "RMSLE score for fold 1 is 0.8913452425572034\n",
      "****************************************************************************************************\n",
      "RMSLE score for fold 2 is 0.8419384516628261\n",
      "****************************************************************************************************\n",
      "RMSLE score for fold 3 is 0.8427337270724246\n",
      "****************************************************************************************************\n",
      "RMSLE score for fold 4 is 0.8895037190259071\n",
      "****************************************************************************************************\n",
      "RMSLE score for fold 5 is 0.9774340788340877\n",
      "****************************************************************************************************\n",
      "RMSLE score for fold 6 is 0.97758221542017\n",
      "****************************************************************************************************\n",
      "RMSLE score for fold 7 is 0.9839605025393038\n",
      "****************************************************************************************************\n",
      "RMSLE score for fold 8 is 0.8507443166613908\n",
      "****************************************************************************************************\n",
      "RMSLE score for fold 9 is 0.9799772842014529\n",
      "****************************************************************************************************\n",
      "RMSLE score for fold 10 is 1.0043736415204068\n",
      "****************************************************************************************************\n",
      "RMSLE score for fold 11 is 0.8266313538922014\n",
      "****************************************************************************************************\n",
      "RMSLE score for fold 12 is 0.838847558525558\n",
      "****************************************************************************************************\n",
      "RMSLE score for fold 13 is 0.9169049724037333\n",
      "****************************************************************************************************\n",
      "RMSLE score for fold 14 is 0.9540836404612567\n",
      "****************************************************************************************************\n",
      "RMSLE score for fold 15 is 0.9889293220673093\n",
      "****************************************************************************************************\n",
      "RMSLE score for fold 16 is 0.9293664567469481\n",
      "****************************************************************************************************\n",
      "RMSLE score for fold 17 is 0.9033756091116435\n",
      "****************************************************************************************************\n",
      "RMSLE score for fold 18 is 1.0170786339487152\n",
      "****************************************************************************************************\n",
      "RMSLE score for fold 19 is 0.9262437394176013\n",
      "****************************************************************************************************\n",
      "RMSLE score for fold 20 is 0.8981392709020151\n",
      "******************************************************************************************************************************************************\n",
      "Mean RMSLE score is 0.9219596868486077\n"
     ]
    },
    {
     "data": {
      "image/png": "[encoded data removed]",
      "text/plain": [
       "<Figure size 432x288 with 1 Axes>"
      ]
     },
     "metadata": {
      "needs_background": "light"
     },
     "output_type": "display_data"
    }
   ],
   "source": [
    "# 20 fold cross validation for xgBoost\n",
    "\n",
    "kf = KFold(n_splits=20, shuffle=True)\n",
    "\n",
    "scores = {}\n",
    "for fold, (train_idx, val_idx) in enumerate(kf.split(train_df, y), 1):\n",
    "    \n",
    "    X_train = train_df.iloc[train_idx]\n",
    "    y_train = y.iloc[train_idx]\n",
    "    X_val = train_df.iloc[val_idx]\n",
    "    y_val = y.iloc[val_idx]\n",
    "    \n",
    "    model = xgb.XGBRegressor(n_estimators=1000, objective='reg:squarederror', max_depth=15, learning_rate=0.05, min_child_weight=1.2,\n",
    "                            colsample_bytree=0.6, reg_alpha=0.001)\n",
    "    \n",
    "    model.fit(X_train, y_train)\n",
    "    \n",
    "    pred = model.predict(X_val)\n",
    " \n",
    "    score = np.sqrt(mean_squared_log_error(np.expm1(y_val), np.expm1((pred))))\n",
    "    \n",
    "    print(\"*\"*100)\n",
    "    print(f'RMSLE score for fold {fold} is {score}')\n",
    "    scores.update({fold:score})\n",
    "    \n",
    "print(\"*\"*150)\n",
    "print(f'Mean RMSLE score is {np.mean(list(scores.values()))}')\n",
    "\n",
    "plt.plot(scores.keys(),scores.values())\n",
    "plt.title(\"Kfold RMSLE\")\n",
    "plt.show()"
   ]
  },
  {
   "cell_type": "markdown",
   "metadata": {},
   "source": [
    "#### Extra Tree Regression"
   ]
  },
  {
   "cell_type": "code",
   "execution_count": 261,
   "metadata": {},
   "outputs": [
    {
     "name": "stdout",
     "output_type": "stream",
     "text": [
      "****************************************************************************************************\n",
      "RMSLE score for fold 1 is 1.030020922536638\n",
      "****************************************************************************************************\n",
      "RMSLE score for fold 2 is 0.9464681559022404\n",
      "****************************************************************************************************\n",
      "RMSLE score for fold 3 is 0.8700108058078216\n",
      "****************************************************************************************************\n",
      "RMSLE score for fold 4 is 0.8988032411356477\n",
      "****************************************************************************************************\n",
      "RMSLE score for fold 5 is 0.8376831054021083\n",
      "****************************************************************************************************\n",
      "RMSLE score for fold 6 is 0.8818141249824429\n",
      "****************************************************************************************************\n",
      "RMSLE score for fold 7 is 0.8906010020103767\n",
      "****************************************************************************************************\n",
      "RMSLE score for fold 8 is 0.8702862357510024\n",
      "****************************************************************************************************\n",
      "RMSLE score for fold 9 is 1.0014630300252576\n",
      "****************************************************************************************************\n",
      "RMSLE score for fold 10 is 0.914989433450826\n",
      "****************************************************************************************************\n",
      "RMSLE score for fold 11 is 0.9200032140501312\n",
      "****************************************************************************************************\n",
      "RMSLE score for fold 12 is 0.8846350751227532\n",
      "****************************************************************************************************\n",
      "RMSLE score for fold 13 is 1.02094964644591\n",
      "****************************************************************************************************\n",
      "RMSLE score for fold 14 is 0.820878384307539\n",
      "****************************************************************************************************\n",
      "RMSLE score for fold 15 is 0.8853638818914564\n",
      "****************************************************************************************************\n",
      "RMSLE score for fold 16 is 0.8959021442970776\n",
      "****************************************************************************************************\n",
      "RMSLE score for fold 17 is 0.9825781693203111\n",
      "****************************************************************************************************\n",
      "RMSLE score for fold 18 is 0.8878422280742513\n",
      "****************************************************************************************************\n",
      "RMSLE score for fold 19 is 0.9215041195348069\n",
      "****************************************************************************************************\n",
      "RMSLE score for fold 20 is 0.7438583469992676\n",
      "******************************************************************************************************************************************************\n",
      "Mean RMSLE score is 0.9052827633523932\n"
     ]
    },
    {
     "data": {
      "image/png": "[encoded data removed]",
      "text/plain": [
       "<Figure size 432x288 with 1 Axes>"
      ]
     },
     "metadata": {
      "needs_background": "light"
     },
     "output_type": "display_data"
    }
   ],
   "source": [
    "# 20 fold cross validation for xgBoost\n",
    "\n",
    "kf = KFold(n_splits=20, shuffle=True)\n",
    "\n",
    "scores = {}\n",
    "for fold, (train_idx, val_idx) in enumerate(kf.split(train_df, y), 1):\n",
    "    \n",
    "    X_train = train_df.iloc[train_idx]\n",
    "    y_train = y.iloc[train_idx]\n",
    "    X_val = train_df.iloc[val_idx]\n",
    "    y_val = y.iloc[val_idx]\n",
    "    \n",
    "    model = ExtraTreesRegressor(n_estimators=500, bootstrap=True, n_jobs=-1)\n",
    "    \n",
    "    model.fit(X_train, y_train)\n",
    "    \n",
    "    pred = model.predict(X_val)\n",
    " \n",
    "    score = np.sqrt(mean_squared_log_error(np.expm1(y_val), np.expm1((pred))))\n",
    "    \n",
    "    print(\"*\"*100)\n",
    "    print(f'RMSLE score for fold {fold} is {score}')\n",
    "    scores.update({fold:score})\n",
    "    \n",
    "print(\"*\"*150)\n",
    "print(f'Mean RMSLE score is {np.mean(list(scores.values()))}')\n",
    "\n",
    "plt.plot(scores.keys(),scores.values())\n",
    "plt.title(\"Kfold RMSLE\")\n",
    "plt.show()"
   ]
  },
  {
   "cell_type": "markdown",
   "metadata": {},
   "source": [
    "#### Model Blending"
   ]
  },
  {
   "cell_type": "code",
   "execution_count": 263,
   "metadata": {},
   "outputs": [
    {
     "name": "stdout",
     "output_type": "stream",
     "text": [
      "[LightGBM] [Warning] bagging_fraction is set=0.78, subsample=1.0 will be ignored. Current value: bagging_fraction=0.78\n",
      "******************************************************************************************************************************************************\n",
      "RMSLE score for fold 1 is 0.8450157981623612\n",
      "[LightGBM] [Warning] bagging_fraction is set=0.78, subsample=1.0 will be ignored. Current value: bagging_fraction=0.78\n",
      "******************************************************************************************************************************************************\n",
      "RMSLE score for fold 2 is 0.8798457735733441\n",
      "[LightGBM] [Warning] bagging_fraction is set=0.78, subsample=1.0 will be ignored. Current value: bagging_fraction=0.78\n",
      "******************************************************************************************************************************************************\n",
      "RMSLE score for fold 3 is 0.9492708107182812\n",
      "[LightGBM] [Warning] bagging_fraction is set=0.78, subsample=1.0 will be ignored. Current value: bagging_fraction=0.78\n",
      "******************************************************************************************************************************************************\n",
      "RMSLE score for fold 4 is 0.9648942082028171\n",
      "[LightGBM] [Warning] bagging_fraction is set=0.78, subsample=1.0 will be ignored. Current value: bagging_fraction=0.78\n",
      "******************************************************************************************************************************************************\n",
      "RMSLE score for fold 5 is 1.031771516125181\n",
      "[LightGBM] [Warning] bagging_fraction is set=0.78, subsample=1.0 will be ignored. Current value: bagging_fraction=0.78\n",
      "******************************************************************************************************************************************************\n",
      "RMSLE score for fold 6 is 0.8592506910459692\n",
      "[LightGBM] [Warning] bagging_fraction is set=0.78, subsample=1.0 will be ignored. Current value: bagging_fraction=0.78\n",
      "******************************************************************************************************************************************************\n",
      "RMSLE score for fold 7 is 0.8542131664822763\n",
      "[LightGBM] [Warning] bagging_fraction is set=0.78, subsample=1.0 will be ignored. Current value: bagging_fraction=0.78\n",
      "******************************************************************************************************************************************************\n",
      "RMSLE score for fold 8 is 0.765695026056995\n",
      "[LightGBM] [Warning] bagging_fraction is set=0.78, subsample=1.0 will be ignored. Current value: bagging_fraction=0.78\n",
      "******************************************************************************************************************************************************\n",
      "RMSLE score for fold 9 is 0.8123579608223915\n",
      "[LightGBM] [Warning] bagging_fraction is set=0.78, subsample=1.0 will be ignored. Current value: bagging_fraction=0.78\n",
      "******************************************************************************************************************************************************\n",
      "RMSLE score for fold 10 is 0.8889199437919146\n",
      "[LightGBM] [Warning] bagging_fraction is set=0.78, subsample=1.0 will be ignored. Current value: bagging_fraction=0.78\n",
      "******************************************************************************************************************************************************\n",
      "RMSLE score for fold 11 is 0.9064683219033097\n",
      "[LightGBM] [Warning] bagging_fraction is set=0.78, subsample=1.0 will be ignored. Current value: bagging_fraction=0.78\n",
      "******************************************************************************************************************************************************\n",
      "RMSLE score for fold 12 is 0.9082171232007927\n",
      "[LightGBM] [Warning] bagging_fraction is set=0.78, subsample=1.0 will be ignored. Current value: bagging_fraction=0.78\n",
      "******************************************************************************************************************************************************\n",
      "RMSLE score for fold 13 is 0.8696504429245833\n",
      "[LightGBM] [Warning] bagging_fraction is set=0.78, subsample=1.0 will be ignored. Current value: bagging_fraction=0.78\n",
      "******************************************************************************************************************************************************\n",
      "RMSLE score for fold 14 is 0.8184773854786782\n",
      "[LightGBM] [Warning] bagging_fraction is set=0.78, subsample=1.0 will be ignored. Current value: bagging_fraction=0.78\n",
      "******************************************************************************************************************************************************\n",
      "RMSLE score for fold 15 is 0.8518119224413195\n",
      "[LightGBM] [Warning] bagging_fraction is set=0.78, subsample=1.0 will be ignored. Current value: bagging_fraction=0.78\n",
      "******************************************************************************************************************************************************\n",
      "RMSLE score for fold 16 is 0.9169004678884543\n",
      "[LightGBM] [Warning] bagging_fraction is set=0.78, subsample=1.0 will be ignored. Current value: bagging_fraction=0.78\n",
      "******************************************************************************************************************************************************\n",
      "RMSLE score for fold 17 is 0.9245431867771966\n",
      "[LightGBM] [Warning] bagging_fraction is set=0.78, subsample=1.0 will be ignored. Current value: bagging_fraction=0.78\n",
      "******************************************************************************************************************************************************\n",
      "RMSLE score for fold 18 is 1.008514002544145\n",
      "[LightGBM] [Warning] bagging_fraction is set=0.78, subsample=1.0 will be ignored. Current value: bagging_fraction=0.78\n",
      "******************************************************************************************************************************************************\n",
      "RMSLE score for fold 19 is 0.9712701738571372\n",
      "[LightGBM] [Warning] bagging_fraction is set=0.78, subsample=1.0 will be ignored. Current value: bagging_fraction=0.78\n",
      "******************************************************************************************************************************************************\n",
      "RMSLE score for fold 20 is 0.9362027598721803\n",
      "******************************************************************************************************************************************************\n",
      "Mean RMSLE score is 0.8981645340934665\n"
     ]
    },
    {
     "data": {
      "image/png": "[encoded data removed]",
      "text/plain": [
       "<Figure size 432x288 with 1 Axes>"
      ]
     },
     "metadata": {
      "needs_background": "light"
     },
     "output_type": "display_data"
    }
   ],
   "source": [
    "# K-Fold Cross Validation \n",
    "#X = training_numeric_dataset\n",
    "test = test_df\n",
    "\n",
    "test_results = []\n",
    "\n",
    "kf = KFold(n_splits=20, shuffle=True)\n",
    "scores = {}\n",
    "for fold, (train_idx, val_idx) in enumerate(kf.split(train_df, y), 1):\n",
    "    \n",
    "    X_train = train_df.iloc[train_idx]\n",
    "    y_train = y.iloc[train_idx]\n",
    "    X_val = train_df.iloc[val_idx]\n",
    "    y_val = y.iloc[val_idx]\n",
    "    \n",
    "    model1 =  xgb.XGBRegressor(n_estimators=1000, objective='reg:squarederror', max_depth=15, learning_rate=0.05, min_child_weight=1.2,\n",
    "                            colsample_bytree=0.6, reg_alpha=0.001)\n",
    "    \n",
    "    model2 = lgb.LGBMRegressor(n_estimators=1000, max_depth=15, learning_rate=0.05, num_leaves=34,\n",
    "                              max_bin = 30, bagging_fraction = 0.78)\n",
    "    \n",
    "    model3 = ExtraTreesRegressor(n_estimators=500, bootstrap=True, n_jobs=-1)\n",
    "\n",
    "    model1.fit(X_train, y_train)\n",
    "    model2.fit(X_train, y_train)\n",
    "    model3.fit(X_train, y_train)\n",
    "    \n",
    "    \n",
    "    pred1 = model1.predict(X_val)\n",
    "    pred2 = model2.predict(X_val)\n",
    "    pred3 = model3.predict(X_val)\n",
    "    \n",
    "    pred = 0.2*pred1 + 0.1*pred2 + 0.7*pred3 \n",
    "    \n",
    "    test_preds1 = model1.predict(test)\n",
    "    test_preds2 = model2.predict(test)\n",
    "    test_preds3 = model3.predict(test)\n",
    "    \n",
    "    test_preds = 0.2*test_preds1 + 0.1* test_preds2 + 0.7*test_preds3\n",
    "    \n",
    "    test_results.append(test_preds)\n",
    " \n",
    "    score = np.sqrt(mean_squared_log_error(np.expm1(y_val), np.expm1((pred))))\n",
    "    print(\"*\"*150)\n",
    "    print(f'RMSLE score for fold {fold} is {score}')\n",
    "    scores.update({fold:score})\n",
    "\n",
    "print(\"*\"*150)\n",
    "print(f'Mean RMSLE score is {np.mean(list(scores.values()))}')\n",
    "\n",
    "plt.plot(scores.keys(),scores.values())\n",
    "plt.title(\"Kfold RMSLE\")\n",
    "plt.show()"
   ]
  },
  {
   "cell_type": "markdown",
   "metadata": {},
   "source": [
    "### Submission"
   ]
  },
  {
   "cell_type": "code",
   "execution_count": 264,
   "metadata": {},
   "outputs": [],
   "source": [
    "blending_final = np.expm1(np.mean(test_results,0))\n",
    "sub['Price']= blending_final\n",
    "sub.to_csv('Final_submission.csv',index=False)"
   ]
  },
  {
   "cell_type": "code",
   "execution_count": 265,
   "metadata": {
    "scrolled": true
   },
   "outputs": [
    {
     "data": {
      "text/plain": [
       "count      8245.000000\n",
       "mean      14289.302924\n",
       "std       14434.953050\n",
       "min          29.530465\n",
       "25%        4235.999779\n",
       "50%       10884.127809\n",
       "75%       18525.099125\n",
       "max      182611.010253\n",
       "Name: Price, dtype: float64"
      ]
     },
     "execution_count": 265,
     "metadata": {},
     "output_type": "execute_result"
    }
   ],
   "source": [
    "sub['Price'].describe()"
   ]
  },
  {
   "cell_type": "markdown",
   "metadata": {},
   "source": [
    "#### Saving model files"
   ]
  },
  {
   "cell_type": "code",
   "execution_count": 268,
   "metadata": {},
   "outputs": [
    {
     "data": {
      "text/plain": [
       "['ETR.bin']"
      ]
     },
     "execution_count": 268,
     "metadata": {},
     "output_type": "execute_result"
    }
   ],
   "source": [
    "joblib.dump(model1,\"XGBOOST.bin\")\n",
    "joblib.dump(model2,\"LGBM.bin\")\n",
    "joblib.dump(model3,\"ETR.bin\")"
   ]
  }
 ],
 "metadata": {
  "kernelspec": {
   "display_name": "Python 3",
   "language": "python",
   "name": "python3"
  },
  "language_info": {
   "codemirror_mode": {
    "name": "ipython",
    "version": 3
   },
   "file_extension": ".py",
   "mimetype": "text/x-python",
   "name": "python",
   "nbconvert_exporter": "python",
   "pygments_lexer": "ipython3",
   "version": "3.8.5"
  }
 },
 "nbformat": 4,
 "nbformat_minor": 4
}
